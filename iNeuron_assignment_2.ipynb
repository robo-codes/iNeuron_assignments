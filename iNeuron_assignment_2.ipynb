{
 "cells": [
  {
   "cell_type": "markdown",
   "metadata": {},
   "source": [
    "# TASK 1:"
   ]
  },
  {
   "cell_type": "markdown",
   "metadata": {},
   "source": [
    "### [1.1] Write a Python Program to implement your own myreduce() function which works exactly like Python's built-in function reduce()"
   ]
  },
  {
   "cell_type": "code",
   "execution_count": 2,
   "metadata": {},
   "outputs": [
    {
     "name": "stdout",
     "output_type": "stream",
     "text": [
      "Sum on list [1,3,5,2] using myreduce function 11\n"
     ]
    }
   ],
   "source": [
    "def myreduce(func, sequence):\n",
    "    result = sequence[0]\n",
    "    for item in sequence[1:]:\n",
    "        result = func(result, item)\n",
    "\n",
    "    return result\n",
    "\n",
    "def sum(x,y):\n",
    "    return x+y\n",
    "\n",
    "print (\"Sum on list [1,3,5,2] using myreduce function \"   + str(myreduce(sum, [1,3,5,2])) )"
   ]
  },
  {
   "cell_type": "markdown",
   "metadata": {},
   "source": [
    "### [1.2] Write a Python program to implement your own myfilter() function which works exactly like Python's built-in function filter()"
   ]
  },
  {
   "cell_type": "code",
   "execution_count": 3,
   "metadata": {},
   "outputs": [
    {
     "name": "stdout",
     "output_type": "stream",
     "text": [
      "Filter only positive Integers on list [0,-2,3,-4,5] using custom filter function[3, 5]\n"
     ]
    }
   ],
   "source": [
    "def myfilter(func, sequence):\n",
    "    result = []\n",
    "    for item in sequence:\n",
    "        if func(item):\n",
    "            result.append(item)\n",
    "\n",
    "    return result\n",
    "\n",
    "def ispositive(x):\n",
    "    if x <= 0:\n",
    "        return False\n",
    "    else:\n",
    "        return True\n",
    "\n",
    "print(\"Filter only positive Integers on list [0,-2,3,-4,5] using custom filter function\"  + str(myfilter(ispositive, [0,-2,3,-4,5])))\n"
   ]
  },
  {
   "cell_type": "markdown",
   "metadata": {},
   "source": [
    "### [2] Implement List comprehensions to produce the following lists.\n",
    "### Write List comprehensions to produce the following Lists\n",
    "### ['A', 'C', 'A', 'D', 'G', 'I', ’L’, ‘ D’]\n",
    "### ['x', 'xx', 'xxx', 'xxxx', 'y', 'yy', 'yyy', 'yyyy', 'z', 'zz', 'zzz', 'zzzz']\n",
    "### ['x', 'y', 'z', 'xx', 'yy', 'zz', 'xx', 'yy', 'zz', 'xxxx', 'yyyy', 'zzzz']\n",
    "### [[2], [3], [4], [3], [4], [5], [4], [5], [6]]\n",
    "### [[2, 3, 4, 5], [3, 4, 5, 6], [4, 5, 6, 7], [5, 6, 7, 8]]\n",
    "### [(1, 1), (2, 1), (3, 1), (1, 2), (2, 2), (3, 2), (1, 3), (2, 3), (3, 3)]"
   ]
  },
  {
   "cell_type": "code",
   "execution_count": 2,
   "metadata": {},
   "outputs": [
    {
     "name": "stdout",
     "output_type": "stream",
     "text": [
      "['A', 'C', 'A', 'D', 'G', 'I', 'L', 'D']\n",
      "['x', 'xx', 'xxx', 'xxxx', 'y', 'yy', 'yyy', 'yyyy', 'z', 'zz', 'zzz', 'zzzz']\n",
      "['x', 'y', 'z', 'xx', 'yy', 'zz', 'xxx', 'yyy', 'zzz', 'xxxx', 'yyyy', 'zzzz']\n",
      "[[2], [3], [4], [3], [4], [5], [4], [5], [6]]\n",
      "[[2, 3, 4, 5], [3, 4, 5, 6], [4, 5, 6, 7]]\n",
      "[(1, 1), (2, 2), (3, 3), (1, 1), (2, 2), (3, 3), (1, 1), (2, 2), (3, 3)]\n"
     ]
    }
   ],
   "source": [
    "first_list = [letters for letters in \"ACADGILD\"]\n",
    "second_list = [letters*i for letters in \"xyz\" for i in range(1,5)]\n",
    "third_list = [letters*i for i in range(1,5) for letters in \"xyz\"]\n",
    "fourth_list = [[numbers+i] for numbers in [2,3,4] for i in range(0,3)]\n",
    "fifth_list = [[numbers+i for numbers in [2,3,4,5]] for i in range(0,3)]\n",
    "sixth_list = [(numbers,numbers) for numbers in [1,2,3] for numbers in [1,2,3]]\n",
    "print(first_list)\n",
    "print(second_list)\n",
    "print(third_list)\n",
    "print(fourth_list)\n",
    "print(fifth_list)\n",
    "print(sixth_list)"
   ]
  },
  {
   "cell_type": "markdown",
   "metadata": {},
   "source": [
    "### [3] Implement a function longestWord() that takes a list of words and returns the longest one."
   ]
  },
  {
   "cell_type": "code",
   "execution_count": 3,
   "metadata": {},
   "outputs": [
    {
     "name": "stdout",
     "output_type": "stream",
     "text": [
      "raj,rutu,ruturaj\n",
      "ruturaj\n"
     ]
    }
   ],
   "source": [
    "def longestWord(ls):\n",
    "    #l = ['raj','rutu','ruturaj']\n",
    "    longest = ''\n",
    "    for i in range(0,len(ls)):\n",
    "        if len(ls[i]) > len(longest):\n",
    "            longest = ls[i]\n",
    "    return(longest)\n",
    "l = input().split(',')\n",
    "print(longestWord(l))"
   ]
  },
  {
   "cell_type": "markdown",
   "metadata": {},
   "source": [
    "# TASK 2:"
   ]
  },
  {
   "cell_type": "markdown",
   "metadata": {},
   "source": [
    "### [1.1] Write a Python Program(with class concepts) to find the area of the triangle using the below formula.\n",
    "### area = (s*(s-a)*(s-b)*(s-c)) ** 0.5\n",
    "### Function to take the length of the sides of triangle from user should be defined in the parent class and function to calculate the area should be defined in subclass."
   ]
  },
  {
   "cell_type": "code",
   "execution_count": 10,
   "metadata": {},
   "outputs": [
    {
     "name": "stdout",
     "output_type": "stream",
     "text": [
      "Enter the length of 1st side: 10\n",
      "Enter the length of 2nd side: 15\n",
      "Enter the length of 3rd side: 20\n",
      "the area of triangle is : 72.61843774138907\n"
     ]
    }
   ],
   "source": [
    "class shape:\n",
    "    def getSides(self):\n",
    "        self.a = int(input('Enter the length of 1st side: '))\n",
    "        self.b = int(input('Enter the length of 2nd side: '))\n",
    "        self.c = int(input('Enter the length of 3rd side: '))\n",
    "\n",
    "class triangle(shape):\n",
    "    def Area(self):\n",
    "        self.getSides()\n",
    "        s = (self.a + self.b + self.c) / 2\n",
    "        self.area = (s*(s-self.a)*(s-self.b)*(s-self.c)) ** 0.5\n",
    "        print(\"the area of triangle is :\",self.area)\n",
    "\n",
    "t1 = triangle()\n",
    "t1.Area()"
   ]
  },
  {
   "cell_type": "markdown",
   "metadata": {},
   "source": [
    "### [1.2] Write a function filter_long_words() that takes a list of words and an integer n and returns the list of words that are longer than n."
   ]
  },
  {
   "cell_type": "code",
   "execution_count": 11,
   "metadata": {},
   "outputs": [
    {
     "name": "stdout",
     "output_type": "stream",
     "text": [
      "raj,rutu,ruturaj\n",
      "4\n",
      "['ruturaj']\n"
     ]
    }
   ],
   "source": [
    "def filter_long_words():\n",
    "    l1 = list(input().split(','))\n",
    "    n = int(input())\n",
    "    l2 = []\n",
    "    for i in l1:\n",
    "        if len(i) > n:\n",
    "            l2.append(i)\n",
    "    return(l2)\n",
    "print(filter_long_words())"
   ]
  },
  {
   "cell_type": "markdown",
   "metadata": {},
   "source": [
    "### [2.1] Write a Python program using function concept that maps  list of words into a list of integers representing the lengths of the corresponding words​.\n",
    "### Hint: ​If a list [ ab,cde,erty] is passed on to the python function output should come as [2,3,4]\n",
    "### Here 2,3 and 4 are the lengths of the words in the list."
   ]
  },
  {
   "cell_type": "code",
   "execution_count": 8,
   "metadata": {},
   "outputs": [
    {
     "name": "stdout",
     "output_type": "stream",
     "text": [
      "raj,rutu,ruturaj\n",
      "[3, 4, 7]\n"
     ]
    }
   ],
   "source": [
    "l1 = list(input().split(','))\n",
    "l2 = []\n",
    "for i in l1:\n",
    "    l2.append(len(i))\n",
    "print(l2)"
   ]
  },
  {
   "cell_type": "markdown",
   "metadata": {},
   "source": [
    "### [2.2] Write a Python function which takes a character (i.e. a string of length 1) and returns True if it is a vowel, False otherwise"
   ]
  },
  {
   "cell_type": "code",
   "execution_count": 14,
   "metadata": {},
   "outputs": [
    {
     "name": "stdout",
     "output_type": "stream",
     "text": [
      "A\n",
      "True\n",
      "r\n",
      "False\n"
     ]
    }
   ],
   "source": [
    "def vowel_check():\n",
    "    c = str(input())\n",
    "    vowels = \"aeiouAEIOU\"\n",
    "    if c in vowels:\n",
    "        return True\n",
    "    else:\n",
    "        return False\n",
    "print(vowel_check())\n",
    "print(vowel_check())"
   ]
  }
 ],
 "metadata": {
  "kernelspec": {
   "display_name": "Python 3",
   "language": "python",
   "name": "python3"
  },
  "language_info": {
   "codemirror_mode": {
    "name": "ipython",
    "version": 3
   },
   "file_extension": ".py",
   "mimetype": "text/x-python",
   "name": "python",
   "nbconvert_exporter": "python",
   "pygments_lexer": "ipython3",
   "version": "3.7.6"
  }
 },
 "nbformat": 4,
 "nbformat_minor": 4
}
